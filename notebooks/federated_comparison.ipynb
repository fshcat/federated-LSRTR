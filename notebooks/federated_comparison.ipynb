{
 "cells": [
  {
   "cell_type": "code",
   "execution_count": 1,
   "id": "46f5b424",
   "metadata": {},
   "outputs": [],
   "source": [
    "import os, sys\n",
    "PROJECT_ROOT = os.path.abspath(os.path.dirname(sys.path[0]))\n",
    "sys.path.append(PROJECT_ROOT)\n",
    "\n",
    "from lsr_tensor import *\n",
    "from lsr_bcd_regression import *\n",
    "import torch\n",
    "import torch.nn.functional as f\n",
    "from datasets import *\n",
    "from federated_algos import *\n",
    "from matplotlib import pyplot as plt\n",
    "import numpy as np\n",
    "from federated_tests import *"
   ]
  },
  {
   "cell_type": "code",
   "execution_count": 14,
   "id": "2cbf4191",
   "metadata": {},
   "outputs": [],
   "source": [
    "# Tests\n",
    "shape, ranks, separation_rank = (64, 64), (4, 4), 2\n",
    "x_stdev = 1\n",
    "y_stdev = 0.05\n",
    "sample_size = 2000\n",
    "val_sample_size = int(sample_size * 0.1)\n",
    "\n",
    "with torch.no_grad():\n",
    "    true_lsr = LSR_tensor_dot(shape, ranks, separation_rank)\n",
    "    f.normalize(true_lsr.core_tensor, p=2, dim=0, out=true_lsr.core_tensor)\n",
    "    true_lsr.core_tensor *= (5 / torch.sqrt(torch.sqrt(torch.prod(torch.tensor(ranks)))))\n",
    "    \n",
    "dataset = synthesize_data(true_lsr, sample_size, shape, x_stdev, y_stdev)\n",
    "val_dataset = synthesize_data(true_lsr, val_sample_size, shape, x_stdev, y_stdev)\n",
    "client_datasets = federate_dataset(dataset, 5)"
   ]
  },
  {
   "cell_type": "code",
   "execution_count": 18,
   "id": "3ee72f44",
   "metadata": {},
   "outputs": [
    {
     "name": "stdout",
     "output_type": "stream",
     "text": [
      "Stepwise federated algorithm training...\n",
      "Run 0\n",
      "Run 1\n"
     ]
    }
   ],
   "source": [
    "print(\"Stepwise federated algorithm training...\")\n",
    "hypers = {\"max_iter\": 10, \"batch_size\": None, \"lr\": 0.001, \"momentum\": 0.9, \"steps\": 10}\n",
    "loss_fn = f.mse_loss\n",
    "aggregator_fn = avg_aggregation\n",
    "args = (BCD_federated_stepwise, (shape, ranks, separation_rank), client_datasets, val_dataset,\\\n",
    "        hypers, loss_fn, aggregator_fn, False)\n",
    "\n",
    "avg_loss, error = run_test(2, 2, *args)"
   ]
  },
  {
   "cell_type": "code",
   "execution_count": null,
   "id": "c7621446",
   "metadata": {
    "scrolled": true
   },
   "outputs": [],
   "source": [
    "print(\"Stepwise federated algorithm training...\")\n",
    "hypers = {\"max_iter\": 10, \"batch_size\": None, \"lr\": 0.001, \"momentum\": 0.9, \"steps\": 10}\n",
    "loss_fn = f.mse_loss\n",
    "aggregator_fn = avg_aggregation\n",
    "init_lsr_dot = LSR_tensor_dot(shape, ranks, separation_rank)\n",
    "\n",
    "_, stepwise_loss = BCD_federated_stepwise(init_lsr_dot, client_datasets, val_dataset, hypers, loss_fn, aggregator_fn, verbose=True)\n",
    "\n",
    "print(\"\\nSplit factors + core federated algorithm training...\")\n",
    "hypers = {\"max_iter\": 50, \"batch_size\": None, \"lr\": 0.001, \"momentum\": 0.9, \"steps\": 10}\n",
    "loss_fn = f.mse_loss\n",
    "aggregator_fn = avg_aggregation\n",
    "init_lsr_dot = LSR_tensor_dot(shape, ranks, separation_rank)\n",
    "\n",
    "_, full_factors_loss = BCD_federated_all_factors(init_lsr_dot, client_datasets, val_dataset, hypers, loss_fn, aggregator_fn, verbose=True, ortho_iteratively=True)\n",
    "\n",
    "print(\"\\n1 full iteration federated algorithm training...\")\n",
    "hypers = {\"max_rounds\": 50, \"max_iter\": 1, \"batch_size\": None, \"lr\": 0.001, \"momentum\": 0.9, \"steps\": 10}\n",
    "loss_fn = f.mse_loss\n",
    "aggregator_fn = avg_aggregation\n",
    "init_lsr_dot = LSR_tensor_dot(shape, ranks, separation_rank)\n",
    "\n",
    "_, full_1_iter_loss = BCD_federated_full_iteration(init_lsr_dot, client_datasets, val_dataset, hypers, loss_fn, aggregator_fn, verbose=True)\n",
    "\n",
    "print(\"\\n5 full iteration federated algorithm training...\")\n",
    "hypers = {\"max_rounds\": 10, \"max_iter\": 5, \"batch_size\": None, \"lr\": 0.001, \"momentum\": 0.9, \"steps\": 10}\n",
    "loss_fn = f.mse_loss\n",
    "aggregator_fn = avg_aggregation\n",
    "init_lsr_dot = LSR_tensor_dot(shape, ranks, separation_rank)\n",
    "\n",
    "_, full_5_iter_loss = BCD_federated_full_iteration(init_lsr_dot, client_datasets, val_dataset, hypers, loss_fn, aggregator_fn, verbose=True)"
   ]
  },
  {
   "cell_type": "code",
   "execution_count": null,
   "id": "4deabe48",
   "metadata": {
    "scrolled": true
   },
   "outputs": [],
   "source": [
    "init_lsr_dot = LSR_tensor_dot(shape, ranks, separation_rank)\n",
    "_, unfederated_diag = lsr_bcd_regression(f.mse_loss, dataset, init_lsr_dot, lr=0.001, momentum=0.9,\\\n",
    "                                        step_epochs=10, max_iter=50, batch_size=None, threshold=1e-4, init_zero=False, ortho=True,\\\n",
    "                                        verbose=True, true_param=None, val_dataset=val_dataset)\n",
    "unfederated_loss = unfederated_diag[\"val_loss\"]"
   ]
  },
  {
   "cell_type": "code",
   "execution_count": null,
   "id": "e55ae558",
   "metadata": {},
   "outputs": [],
   "source": [
    "plt.plot(np.arange(len(unfederated_loss)) + 1, unfederated_loss, label=\"Unfederated\")\n",
    "plt.plot(np.arange(len(stepwise_loss)) + 1, stepwise_loss, label=\"Stepwise\")\n",
    "plt.plot(np.arange(len(full_factors_loss)) + 1, full_factors_loss, label=\"Full Factors + Core\")\n",
    "plt.plot(np.arange(len(full_1_iter_loss)) + 1, full_1_iter_loss, label=\"Full 1 Iteration\")\n",
    "plt.plot((np.arange(len(full_5_iter_loss)) + 1)*5, full_5_iter_loss, label=\"Full 5 Iterations\")\n",
    "plt.legend()\n",
    "plt.xlabel(\"Iteration #\")\n",
    "plt.ylabel(\"Loss\")\n",
    "plt.title(\"Validation Loss over # of Iterations\")\n",
    "plt.show()"
   ]
  }
 ],
 "metadata": {
  "kernelspec": {
   "display_name": "Python 3 (ipykernel)",
   "language": "python",
   "name": "python3"
  },
  "language_info": {
   "codemirror_mode": {
    "name": "ipython",
    "version": 3
   },
   "file_extension": ".py",
   "mimetype": "text/x-python",
   "name": "python",
   "nbconvert_exporter": "python",
   "pygments_lexer": "ipython3",
   "version": "3.8.10"
  }
 },
 "nbformat": 4,
 "nbformat_minor": 5
}
